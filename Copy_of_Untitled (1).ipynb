{
 "cells": [
  {
   "cell_type": "markdown",
   "metadata": {
    "colab_type": "text",
    "id": "TlVguDrT6MkN"
   },
   "source": [
    "#                                Aerial Cactus Identification - from kaggle\n",
    "## Determine whether an image contains a columnar cactus\n",
    "\n",
    "We will be using data from Kaggle competition of binary classification of Cactus images\n",
    "* https://www.kaggle.com/c/aerial-cactus-identification/kernels"
   ]
  },
  {
   "cell_type": "markdown",
   "metadata": {
    "colab_type": "text",
    "id": "BALKMJAd8SaK"
   },
   "source": []
  },
  {
   "cell_type": "markdown",
   "metadata": {
    "colab_type": "text",
    "id": "XnWauTj7zEUh"
   },
   "source": [
    "## Starting with Images Structure and Processing\n"
   ]
  },
  {
   "cell_type": "code",
   "execution_count": 0,
   "metadata": {
    "colab": {},
    "colab_type": "code",
    "id": "XOr5eyWWzEUi"
   },
   "outputs": [],
   "source": [
    "import numpy as np\n",
    "import matplotlib.pyplot as plt\n",
    "import pandas as pd\n",
    "from warnings import filterwarnings\n",
    "from PIL import Image\n",
    "from pylab import *\n",
    "import cv2 as cv\n",
    "import cv2\n",
    "%matplotlib inline\n",
    "\n",
    "filterwarnings('ignore')"
   ]
  },
  {
   "cell_type": "code",
   "execution_count": 0,
   "metadata": {
    "colab": {},
    "colab_type": "code",
    "id": "AURVSCAuznIf"
   },
   "outputs": [],
   "source": [
    "DATA_IN_GOOGLE_CLOUD = False\n",
    "DATA_ON_LOCAL_MACHINE = True\n",
    "DATA_IN_KAGGLE = False\n",
    "I_AM_IN_KAGGLE_KERNEL = False\n",
    "\n",
    "PATH =''\n",
    "\n",
    "import sys\n",
    "I_AM_IN_COLAB = 'google.colab' in sys.modules\n",
    "\n",
    "if (I_AM_IN_COLAB):\n",
    "    from google.colab import files\n",
    "    from google.colab import drive"
   ]
  },
  {
   "cell_type": "code",
   "execution_count": 4,
   "metadata": {
    "colab": {
     "base_uri": "https://localhost:8080/",
     "height": 244,
     "resources": {
      "http://localhost:8080/nbextensions/google.colab/files.js": {
       "data": "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",
       "headers": [
        [
         "content-type",
         "application/javascript"
        ]
       ],
       "ok": true,
       "status": 200,
       "status_text": ""
      }
     }
    },
    "colab_type": "code",
    "id": "9FWoFsJ7zp7T",
    "outputId": "cd5e653f-172e-461d-be7b-640dd176efa8"
   },
   "outputs": [
    {
     "data": {
      "text/html": [
       "\n",
       "     <input type=\"file\" id=\"files-61030d5c-f2f9-454c-84a6-3293900ca084\" name=\"files[]\" multiple disabled />\n",
       "     <output id=\"result-61030d5c-f2f9-454c-84a6-3293900ca084\">\n",
       "      Upload widget is only available when the cell has been executed in the\n",
       "      current browser session. Please rerun this cell to enable.\n",
       "      </output>\n",
       "      <script src=\"/nbextensions/google.colab/files.js\"></script> "
      ],
      "text/plain": [
       "<IPython.core.display.HTML object>"
      ]
     },
     "metadata": {
      "tags": []
     },
     "output_type": "display_data"
    },
    {
     "name": "stdout",
     "output_type": "stream",
     "text": [
      "Saving 000c8a36845c0208e833c79c1bffedd1.jpg to 000c8a36845c0208e833c79c1bffedd1.jpg\n",
      "Saving 000d1e9a533f62e55c289303b072733d.jpg to 000d1e9a533f62e55c289303b072733d.jpg\n",
      "Saving 0004be2cfeaba1c0361d39e2b000257b.jpg to 0004be2cfeaba1c0361d39e2b000257b.jpg\n",
      "Saving 15f3fdf941a0de5746d315f38a21507a.jpg to 15f3fdf941a0de5746d315f38a21507a.jpg\n"
     ]
    }
   ],
   "source": [
    "if DATA_ON_LOCAL_MACHINE:\n",
    "    uploaded = files.upload()\n",
    "    #df = pd.read_csv(<filename>)`"
   ]
  },
  {
   "cell_type": "markdown",
   "metadata": {
    "colab_type": "text",
    "id": "g8L8dQsjz9x0"
   },
   "source": [
    "## Image data handeling & structure\n",
    "* Read : image = plt.imread('filename.jpg')\n",
    "* Show: plt.imshow(image)\n",
    "### Color JPG\n",
    "* numpy array of shape (im_height, im_width, channles)\n",
    "* Data type is int 0-255\n",
    "* or Float of 0-1\n",
    "* 3 channles of R, G, B\n",
    "* Red channle: image[:,:,0]\n",
    "* Green channle: image[:,:,1]\n",
    "* Blue channle:image[:,:,2]\n",
    "\n",
    "Lest View the data\n"
   ]
  },
  {
   "cell_type": "code",
   "execution_count": 5,
   "metadata": {
    "colab": {
     "base_uri": "https://localhost:8080/",
     "height": 34
    },
    "colab_type": "code",
    "id": "w7-Y7cKLzEU6",
    "outputId": "ecb219f0-d5da-4588-c722-f31d939d56c4"
   },
   "outputs": [
    {
     "data": {
      "text/plain": [
       "(32, 32, 3)"
      ]
     },
     "execution_count": 5,
     "metadata": {
      "tags": []
     },
     "output_type": "execute_result"
    }
   ],
   "source": [
    "image = plt.imread('0004be2cfeaba1c0361d39e2b000257b.jpg')\n",
    "image.shape"
   ]
  },
  {
   "cell_type": "code",
   "execution_count": 6,
   "metadata": {
    "colab": {
     "base_uri": "https://localhost:8080/",
     "height": 374
    },
    "colab_type": "code",
    "id": "o-VVW6pC1z3u",
    "outputId": "79e658d8-db80-45da-c502-e3c7359769f1"
   },
   "outputs": [
    {
     "data": {
      "text/plain": [
       "(array([[136, 134, 147, ..., 152, 147, 157],\n",
       "        [124, 161, 158, ..., 163, 147, 145],\n",
       "        [161, 160, 158, ..., 150, 161, 129],\n",
       "        ...,\n",
       "        [137, 197, 110, ..., 159, 145, 156],\n",
       "        [150, 169, 150, ..., 167, 152, 152],\n",
       "        [183, 115, 165, ..., 179, 142, 139]], dtype=uint8),\n",
       " array([[138, 136, 148, ..., 129, 124, 134],\n",
       "        [126, 163, 159, ..., 140, 126, 124],\n",
       "        [163, 162, 159, ..., 129, 140, 108],\n",
       "        ...,\n",
       "        [111, 171,  84, ..., 132, 118, 129],\n",
       "        [124, 143, 124, ..., 140, 123, 123],\n",
       "        [157,  89, 139, ..., 150, 113, 110]], dtype=uint8),\n",
       " array([[125, 125, 140, ..., 135, 130, 140],\n",
       "        [113, 152, 151, ..., 146, 131, 129],\n",
       "        [150, 151, 151, ..., 134, 145, 113],\n",
       "        ...,\n",
       "        [122, 182,  95, ..., 149, 135, 146],\n",
       "        [135, 154, 137, ..., 157, 141, 143],\n",
       "        [168, 100, 152, ..., 168, 133, 130]], dtype=uint8))"
      ]
     },
     "execution_count": 6,
     "metadata": {
      "tags": []
     },
     "output_type": "execute_result"
    }
   ],
   "source": [
    "## Red channle\n",
    "## green channle\n",
    "## blue channle\n",
    "image[:,:,0], image[:,:,1], image[:,:,2]"
   ]
  },
  {
   "cell_type": "code",
   "execution_count": 7,
   "metadata": {
    "colab": {
     "base_uri": "https://localhost:8080/",
     "height": 209
    },
    "colab_type": "code",
    "id": "YwncqUZM2IcG",
    "outputId": "8bb857fb-52c6-4e7e-c33a-b45dd3759a41"
   },
   "outputs": [
    {
     "data": {
      "image/png": "[encoded data removed]",
      "text/plain": [
       "<Figure size 864x360 with 4 Axes>"
      ]
     },
     "metadata": {
      "tags": []
     },
     "output_type": "display_data"
    }
   ],
   "source": [
    "plt.figure(figsize=(12,5))\n",
    "plt.subplot(1, 4, 1)\n",
    "plt.imshow(image)\n",
    "plt.title('original');\n",
    "plt.subplot(1, 4, 2)\n",
    "plt.imshow(image[:,:,0], cmap='Spectral')\n",
    "plt.title('Red');\n",
    "plt.subplot(1, 4, 3)\n",
    "plt.imshow(image[:,:,1], cmap='BrBG')\n",
    "plt.title('Green');\n",
    "plt.subplot(1, 4, 4)\n",
    "plt.imshow(image[:,:,2], cmap='PRGn')\n",
    "plt.title('Blue');\n"
   ]
  },
  {
   "cell_type": "code",
   "execution_count": 8,
   "metadata": {
    "colab": {
     "base_uri": "https://localhost:8080/",
     "height": 34
    },
    "colab_type": "code",
    "id": "L2sjVJ1ROo2_",
    "outputId": "2db64fdb-8a02-4692-c1c9-e939690d8a2a"
   },
   "outputs": [
    {
     "data": {
      "text/plain": [
       "(1024, 3)"
      ]
     },
     "execution_count": 8,
     "metadata": {
      "tags": []
     },
     "output_type": "execute_result"
    }
   ],
   "source": [
    "image_test = image / 255.0 # normalize to [0...1] scale\n",
    "image_test = image_test.reshape(32 * 32, 3)  # Flatten each channle\n",
    "image_test.shape"
   ]
  },
  {
   "cell_type": "markdown",
   "metadata": {
    "colab_type": "text",
    "id": "Jrt03IU54vVZ"
   },
   "source": [
    "## Acsess pixels in the image\n",
    "we can access any pixel with indexing and slicing\n",
    "* image rows 10-20: image[10:20,:,:]\n",
    "* image columns: image[:,30:80,:]"
   ]
  },
  {
   "cell_type": "code",
   "execution_count": 9,
   "metadata": {
    "colab": {
     "base_uri": "https://localhost:8080/",
     "height": 231
    },
    "colab_type": "code",
    "id": "OJ9-Aojs4uPp",
    "outputId": "01259236-bf91-4cf1-c562-fd6259014337"
   },
   "outputs": [
    {
     "data": {
      "text/plain": [
       "<matplotlib.image.AxesImage at 0x7f6874c7e908>"
      ]
     },
     "execution_count": 9,
     "metadata": {
      "tags": []
     },
     "output_type": "execute_result"
    },
    {
     "data": {
      "image/png": "[encoded data removed]",
      "text/plain": [
       "<Figure size 648x216 with 2 Axes>"
      ]
     },
     "metadata": {
      "tags": []
     },
     "output_type": "display_data"
    }
   ],
   "source": [
    "plt.figure(figsize=(9,3))\n",
    "plt.subplot(1, 2, 1)\n",
    "plt.imshow(image[10:20,:,:])\n",
    "plt.subplot(1, 2, 2)\n",
    "plt.imshow(image[:,10:20,:])"
   ]
  },
  {
   "cell_type": "markdown",
   "metadata": {
    "colab_type": "text",
    "id": "62WOqLBnzEUn"
   },
   "source": [
    "##  Image Processing\n",
    "* decoloring with MiniBatch for better use of our computing resources\n",
    "* resize : cv.resize(image, dsize=(new_x,new_y))\n",
    "* Edges & contoures"
   ]
  },
  {
   "cell_type": "code",
   "execution_count": 0,
   "metadata": {
    "colab": {},
    "colab_type": "code",
    "id": "VUCkh3saQbx1"
   },
   "outputs": [],
   "source": [
    "# MiniBatching\n",
    "\n",
    "import warnings; warnings.simplefilter('ignore')  # Fix NumPy issues.\n",
    "\n",
    "from sklearn.cluster import MiniBatchKMeans\n",
    "kmeans = MiniBatchKMeans(16)\n",
    "kmeans.fit(image_test)\n",
    "new_colors = kmeans.cluster_centers_[kmeans.predict(image_test)]\n"
   ]
  },
  {
   "cell_type": "code",
   "execution_count": 11,
   "metadata": {
    "colab": {
     "base_uri": "https://localhost:8080/",
     "height": 215
    },
    "colab_type": "code",
    "id": "ihKs57IhQ78S",
    "outputId": "69b9d8cd-7360-48ce-f91c-3dc3cb746035"
   },
   "outputs": [
    {
     "data": {
      "image/png": "[encoded data removed]",
      "text/plain": [
       "<Figure size 576x216 with 2 Axes>"
      ]
     },
     "metadata": {
      "tags": []
     },
     "output_type": "display_data"
    }
   ],
   "source": [
    "image_recolored = new_colors.reshape(image.shape)\n",
    "\n",
    "fig, ax = plt.subplots(1, 2, figsize=(8, 3),\n",
    "                       subplot_kw=dict(xticks=[], yticks=[]))\n",
    "fig.subplots_adjust(wspace=0.05)\n",
    "ax[0].imshow(image)\n",
    "ax[0].set_title('Original Image', size=16)\n",
    "ax[1].imshow(image_recolored)\n",
    "ax[1].set_title('16-color Image', size=16);"
   ]
  },
  {
   "cell_type": "markdown",
   "metadata": {
    "colab_type": "text",
    "id": "5SdeTtJhw9oN"
   },
   "source": []
  },
  {
   "cell_type": "code",
   "execution_count": 12,
   "metadata": {
    "colab": {
     "base_uri": "https://localhost:8080/",
     "height": 335
    },
    "colab_type": "code",
    "id": "XbXQfM5yae3O",
    "outputId": "c6b08067-f0f4-42fd-b226-086ec6acac76"
   },
   "outputs": [
    {
     "data": {
      "text/plain": [
       "Text(0.5, 1.0, 'enlarge to 128px')"
      ]
     },
     "execution_count": 12,
     "metadata": {
      "tags": []
     },
     "output_type": "execute_result"
    },
    {
     "data": {
      "image/png": "[encoded data removed]",
      "text/plain": [
       "<Figure size 720x432 with 2 Axes>"
      ]
     },
     "metadata": {
      "tags": []
     },
     "output_type": "display_data"
    }
   ],
   "source": [
    "# example of resizing image size from 32 to 128px\n",
    "\n",
    "image = plt.imread('0004be2cfeaba1c0361d39e2b000257b.jpg')\n",
    "res=cv.resize(image,dsize=(128,128),interpolation=cv.INTER_CUBIC)\n",
    "\n",
    "fig, ax = plt.subplots(1, 2, figsize=(10, 6),\n",
    "                        subplot_kw=dict(xticks=[], yticks=[]))\n",
    "fig.subplots_adjust(wspace=0.1)\n",
    "ax[0].imshow(image)\n",
    "ax[0].set_title('original image', size=16)\n",
    "ax[1].imshow(res)\n",
    "ax[1].set_title('enlarge to 128px', size=16)\n",
    "\n"
   ]
  },
  {
   "cell_type": "code",
   "execution_count": 0,
   "metadata": {
    "colab": {},
    "colab_type": "code",
    "id": "UgOkjSsWMHbz"
   },
   "outputs": [],
   "source": [
    "image = plt.imread('0004be2cfeaba1c0361d39e2b000257b.jpg')\n",
    "\n",
    "im = array(Image.open('0004be2cfeaba1c0361d39e2b000257b.jpg').convert('L'))\n",
    "\n",
    "res=cv.resize(im,dsize=(128,128),interpolation=cv.INTER_CUBIC)\n",
    "\n",
    "edges = cv2.Canny(res,100,230)"
   ]
  },
  {
   "cell_type": "code",
   "execution_count": 14,
   "metadata": {
    "colab": {
     "base_uri": "https://localhost:8080/",
     "height": 308
    },
    "colab_type": "code",
    "id": "RfDPiBx1Nqbb",
    "outputId": "aaa21302-c442-4e6e-b7a4-850f9dca6647"
   },
   "outputs": [
    {
     "data": {
      "image/png": "[encoded data removed]",
      "text/plain": [
       "<Figure size 864x360 with 3 Axes>"
      ]
     },
     "metadata": {
      "tags": []
     },
     "output_type": "display_data"
    }
   ],
   "source": [
    "plt.figure(figsize=(12, 5))\n",
    "\n",
    "plt.subplot(131),plt.imshow(image)\n",
    "plt.title('Original')\n",
    "\n",
    "plt.subplot(132),plt.imshow(res)\n",
    "plt.title('128px enlargement')\n",
    "\n",
    "plt.subplot(133),plt.imshow(edges,cmap = 'gray')\n",
    "plt.title('Edge Image')\n",
    "\n",
    "plt.tight_layout()\n",
    "plt.show()"
   ]
  },
  {
   "cell_type": "code",
   "execution_count": 0,
   "metadata": {
    "colab": {},
    "colab_type": "code",
    "id": "QFaZ0dNpbs2K"
   },
   "outputs": [],
   "source": [
    "im = cv2.imread('0004be2cfeaba1c0361d39e2b000257b.jpg')\n",
    "# im=cv.resize(im,dsize=(128,128),interpolation=cv.INTER_CUBIC)\n",
    "           \n",
    "imgray = cv2.cvtColor(im,cv2.COLOR_BGR2GRAY)\n",
    "ret,thresh = cv2.threshold(imgray,177,255,0)\n",
    "image, contours, hierarchy = cv2.findContours(thresh,cv2.RETR_TREE,cv2.CHAIN_APPROX_SIMPLE)"
   ]
  },
  {
   "cell_type": "code",
   "execution_count": 16,
   "metadata": {
    "colab": {
     "base_uri": "https://localhost:8080/",
     "height": 286
    },
    "colab_type": "code",
    "id": "coHLeDwWbdmZ",
    "outputId": "3e3cacbf-95c2-4b6e-924d-448688a8418a"
   },
   "outputs": [
    {
     "data": {
      "text/plain": [
       "<matplotlib.image.AxesImage at 0x7f6865264390>"
      ]
     },
     "execution_count": 16,
     "metadata": {
      "tags": []
     },
     "output_type": "execute_result"
    },
    {
     "data": {
      "image/png": "[encoded data removed]",
      "text/plain": [
       "<Figure size 432x288 with 1 Axes>"
      ]
     },
     "metadata": {
      "tags": []
     },
     "output_type": "display_data"
    }
   ],
   "source": [
    "plt.imshow(image)"
   ]
  },
  {
   "cell_type": "code",
   "execution_count": 17,
   "metadata": {
    "colab": {
     "base_uri": "https://localhost:8080/",
     "height": 142
    },
    "colab_type": "code",
    "id": "nODe9OfTc7oI",
    "outputId": "3781d469-a7d4-4b53-8188-bd76ca5c6f6f"
   },
   "outputs": [
    {
     "data": {
      "text/plain": [
       "<matplotlib.image.AxesImage at 0x7f6863a3b908>"
      ]
     },
     "execution_count": 17,
     "metadata": {
      "tags": []
     },
     "output_type": "execute_result"
    },
    {
     "data": {
      "image/png": "[encoded data removed]",
      "text/plain": [
       "<Figure size 432x288 with 1 Axes>"
      ]
     },
     "metadata": {
      "tags": []
     },
     "output_type": "display_data"
    }
   ],
   "source": [
    "plt.imshow(image[1:8])"
   ]
  },
  {
   "cell_type": "code",
   "execution_count": 18,
   "metadata": {
    "colab": {
     "base_uri": "https://localhost:8080/",
     "height": 68
    },
    "colab_type": "code",
    "id": "uiRHtrpzexZ-",
    "outputId": "b8902374-c21e-42dc-f8c0-c10bea894ae1"
   },
   "outputs": [
    {
     "data": {
      "text/plain": [
       "array([[255, 255, 255, 255, 255, 255, 255, 255, 255, 255, 255, 255, 255,\n",
       "        255, 255, 255, 255, 255, 255, 255, 255, 255, 255, 255, 255, 255,\n",
       "          0,   0,   0,   0,   0,   0]], dtype=uint8)"
      ]
     },
     "execution_count": 18,
     "metadata": {
      "tags": []
     },
     "output_type": "execute_result"
    }
   ],
   "source": [
    "new_image = image[4:5]\n",
    "new_image"
   ]
  },
  {
   "cell_type": "code",
   "execution_count": 19,
   "metadata": {
    "colab": {
     "base_uri": "https://localhost:8080/",
     "height": 282
    },
    "colab_type": "code",
    "id": "oUGy_l1zoIye",
    "outputId": "799716ae-2e49-4b8c-f2b4-ee12fad297d5"
   },
   "outputs": [
    {
     "data": {
      "text/plain": [
       "(0.5, 127.5, 0.5, 127.5)"
      ]
     },
     "execution_count": 19,
     "metadata": {
      "tags": []
     },
     "output_type": "execute_result"
    },
    {
     "data": {
      "image/png": "[encoded data removed]",
      "text/plain": [
       "<Figure size 432x288 with 1 Axes>"
      ]
     },
     "metadata": {
      "tags": []
     },
     "output_type": "display_data"
    }
   ],
   "source": [
    "# read image to array\n",
    "# im = array(Image.open('0004be2cfeaba1c0361d39e2b000257b.jpg').convert('L'))\n",
    "# create a new figure\n",
    "figure()\n",
    "# don't use colors\n",
    "# gray()\n",
    "# show contours with origin upper left corner\n",
    "contour(res, origin='image')\n",
    "axis('equal')\n",
    "axis('off')"
   ]
  },
  {
   "cell_type": "code",
   "execution_count": 0,
   "metadata": {
    "colab": {},
    "colab_type": "code",
    "id": "p2ag0_fsx1qB"
   },
   "outputs": [],
   "source": []
  },
  {
   "cell_type": "code",
   "execution_count": 0,
   "metadata": {
    "colab": {},
    "colab_type": "code",
    "id": "paoi45snx2A4"
   },
   "outputs": [],
   "source": []
  },
  {
   "cell_type": "code",
   "execution_count": 0,
   "metadata": {
    "colab": {},
    "colab_type": "code",
    "id": "gr9XgkiezEU2"
   },
   "outputs": [],
   "source": [
    "image3 = plt.imread('000c8a36845c0208e833c79c1bffedd1.jpg')\n",
    "# plt.imshow(plt.imread('000c8a36845c0208e833c79c1bffedd1.jpg'))\n",
    "\n",
    "im3 = array(Image.open('000c8a36845c0208e833c79c1bffedd1.jpg').convert('L'))\n",
    "\n",
    "res3 = cv.resize(im3, dsize=(128,128), interpolation=cv.INTER_CUBIC)\n",
    "\n",
    "edges3 = cv2.Canny(res3,100,230)"
   ]
  },
  {
   "cell_type": "code",
   "execution_count": 21,
   "metadata": {
    "colab": {
     "base_uri": "https://localhost:8080/",
     "height": 308
    },
    "colab_type": "code",
    "id": "pecBg0WiTz9K",
    "outputId": "fbf8ff4d-dfb2-4457-af0d-9c16f2d45161"
   },
   "outputs": [
    {
     "data": {
      "image/png": "[encoded data removed]",
      "text/plain": [
       "<Figure size 864x360 with 3 Axes>"
      ]
     },
     "metadata": {
      "tags": []
     },
     "output_type": "display_data"
    }
   ],
   "source": [
    "plt.figure(figsize=(12, 5))\n",
    "\n",
    "plt.subplot(131),plt.imshow(image3)\n",
    "plt.title('Original')\n",
    "\n",
    "\n",
    "plt.subplot(132),plt.imshow(res3)\n",
    "plt.title('128px enlargement')\n",
    "\n",
    "\n",
    "plt.subplot(133),plt.imshow(edges3,cmap = 'gray')\n",
    "plt.title('Edge Image')\n",
    "\n",
    "plt.tight_layout()\n",
    "plt.show()"
   ]
  },
  {
   "cell_type": "code",
   "execution_count": 23,
   "metadata": {
    "colab": {
     "base_uri": "https://localhost:8080/",
     "height": 286
    },
    "colab_type": "code",
    "id": "zbzY3tfq_5LA",
    "outputId": "a99be4e7-4fac-4557-e15e-42cb3a15c998"
   },
   "outputs": [
    {
     "data": {
      "text/plain": [
       "<matplotlib.image.AxesImage at 0x7f686396e2e8>"
      ]
     },
     "execution_count": 23,
     "metadata": {
      "tags": []
     },
     "output_type": "execute_result"
    },
    {
     "data": {
      "image/png": "[encoded data removed]",
      "text/plain": [
       "<Figure size 432x288 with 1 Axes>"
      ]
     },
     "metadata": {
      "tags": []
     },
     "output_type": "display_data"
    }
   ],
   "source": [
    "im3 = cv2.imread('000c8a36845c0208e833c79c1bffedd1.jpg')\n",
    "im3 = cv.resize(im3,dsize=(128,128),interpolation=cv.INTER_CUBIC)\n",
    "\n",
    "           \n",
    "imgray3 = cv2.cvtColor(im3,cv2.COLOR_BGR2GRAY)\n",
    "ret,thresh3 = cv2.threshold(imgray3,177,255,0)\n",
    "image3, contours, hierarchy = cv2.findContours(thresh3,cv2.RETR_TREE,cv2.CHAIN_APPROX_SIMPLE)\n",
    "\n",
    "# img3 = cv2.drawContours(image3, [cnt], 0, (0,255,0), 3)\n",
    "plt.imshow(image3)"
   ]
  },
  {
   "cell_type": "code",
   "execution_count": 24,
   "metadata": {
    "colab": {
     "base_uri": "https://localhost:8080/",
     "height": 282
    },
    "colab_type": "code",
    "id": "envCHsEw8Ka8",
    "outputId": "3861b70a-50b0-40ca-a49f-49b62b56461d"
   },
   "outputs": [
    {
     "data": {
      "text/plain": [
       "(0.5, 127.5, 0.5, 127.5)"
      ]
     },
     "execution_count": 24,
     "metadata": {
      "tags": []
     },
     "output_type": "execute_result"
    },
    {
     "data": {
      "image/png": "[encoded data removed]",
      "text/plain": [
       "<Figure size 432x288 with 1 Axes>"
      ]
     },
     "metadata": {
      "tags": []
     },
     "output_type": "display_data"
    }
   ],
   "source": [
    "# read image to array\n",
    "# im3 = array(Image.open('000c8a36845c0208e833c79c1bffedd1.jpg').convert('L'))\n",
    "# create a new figure\n",
    "figure()\n",
    "# don't use colors\n",
    "# gray()\n",
    "# show contours with origin upper left corner\n",
    "contour(res3, origin='image')\n",
    "axis('equal')\n",
    "axis('off')"
   ]
  },
  {
   "cell_type": "markdown",
   "metadata": {
    "colab_type": "text",
    "id": "EnoLB--WePXh"
   },
   "source": []
  },
  {
   "cell_type": "markdown",
   "metadata": {
    "colab_type": "text",
    "id": "yhCOZjdIePyB"
   },
   "source": []
  },
  {
   "cell_type": "markdown",
   "metadata": {
    "colab_type": "text",
    "id": "x0PqqCzPeQk3"
   },
   "source": []
  },
  {
   "cell_type": "markdown",
   "metadata": {
    "colab_type": "text",
    "id": "XTSiZCm_P1Wm"
   },
   "source": [
    "# **LET'S GET STARTED **\n",
    "\n",
    "## **1. Loading the data from Kaggel to Colab **"
   ]
  },
  {
   "cell_type": "code",
   "execution_count": 25,
   "metadata": {
    "colab": {
     "base_uri": "https://localhost:8080/",
     "height": 238
    },
    "colab_type": "code",
    "id": "39h7XAPP58Hi",
    "outputId": "571f30ef-45bc-4d90-af0d-3e5e1ce608fe"
   },
   "outputs": [
    {
     "name": "stdout",
     "output_type": "stream",
     "text": [
      "Warning: Looks like you're using an outdated API Version, please consider updating (server 1.5.6 / client 1.5.4)\n",
      "Downloading train.csv to /content\n",
      "\r",
      "  0% 0.00/667k [00:00<?, ?B/s]\n",
      "100% 667k/667k [00:00<00:00, 43.6MB/s]\n",
      "Downloading sample_submission.csv to /content\n",
      "  0% 0.00/160k [00:00<?, ?B/s]\n",
      "100% 160k/160k [00:00<00:00, 75.3MB/s]\n",
      "Downloading test.zip to /content\n",
      "  0% 0.00/4.20M [00:00<?, ?B/s]\n",
      "100% 4.20M/4.20M [00:00<00:00, 38.5MB/s]\n",
      "Downloading train.zip to /content\n",
      " 88% 17.0M/19.2M [00:00<00:00, 84.5MB/s]\n",
      "100% 19.2M/19.2M [00:00<00:00, 76.1MB/s]\n"
     ]
    }
   ],
   "source": [
    "import os\n",
    "DATA_IN_KAGGLE=True\n",
    "I_AM_IN_COLAB=True\n",
    "if DATA_IN_KAGGLE and I_AM_IN_COLAB:\n",
    "  os.environ['KAGGLE_USERNAME']= 'gordontal'\n",
    "  os.environ['KAGGLE_KEY']= '29e2a4d2b496126821ddadfd047092e8'\n",
    "  !kaggle competitions download -c aerial-cactus-identification # api copied from kaggle\n",
    " # !kaggle competitions download -c aerial-cactus-identification # api copied from kaggle\n",
    "  \n",
    "  df = pd.read_csv('train.csv')\n",
    "\n",
    "  sample_submission = pd.read_csv('sample_submission.csv')"
   ]
  },
  {
   "cell_type": "code",
   "execution_count": 26,
   "metadata": {
    "colab": {
     "base_uri": "https://localhost:8080/",
     "height": 187
    },
    "colab_type": "code",
    "id": "eKSZb2_q7cU3",
    "outputId": "8c81381c-72c6-4b33-a142-b69c5856cfe4"
   },
   "outputs": [
    {
     "name": "stdout",
     "output_type": "stream",
     "text": [
      "total 24836\n",
      "-rw-r--r-- 1 root root 20148140 Sep 25 11:00 train.zip\n",
      "-rw-r--r-- 1 root root  4408369 Sep 25 11:00 test.zip\n",
      "-rw-r--r-- 1 root root   164014 Sep 25 11:00 sample_submission.csv\n",
      "-rw-r--r-- 1 root root   682514 Sep 25 11:00 train.csv\n",
      "-rw-r--r-- 1 root root     1157 Sep 25 10:55 15f3fdf941a0de5746d315f38a21507a.jpg\n",
      "-rw-r--r-- 1 root root     1170 Sep 25 10:55 0004be2cfeaba1c0361d39e2b000257b.jpg\n",
      "-rw-r--r-- 1 root root     1178 Sep 25 10:55 000d1e9a533f62e55c289303b072733d.jpg\n",
      "-rw-r--r-- 1 root root     1152 Sep 25 10:55 000c8a36845c0208e833c79c1bffedd1.jpg\n",
      "drwxr-xr-x 1 root root     4096 Aug 27 16:17 sample_data\n"
     ]
    }
   ],
   "source": [
    "!ls -lt"
   ]
  },
  {
   "cell_type": "code",
   "execution_count": 27,
   "metadata": {
    "colab": {
     "base_uri": "https://localhost:8080/",
     "height": 204
    },
    "colab_type": "code",
    "id": "b7VWA3C0VVJz",
    "outputId": "6225fff5-5932-4cb1-ece4-c6029ef89375"
   },
   "outputs": [
    {
     "data": {
      "text/html": [
       "<div>\n",
       "<style scoped>\n",
       "    .dataframe tbody tr th:only-of-type {\n",
       "        vertical-align: middle;\n",
       "    }\n",
       "\n",
       "    .dataframe tbody tr th {\n",
       "        vertical-align: top;\n",
       "    }\n",
       "\n",
       "    .dataframe thead th {\n",
       "        text-align: right;\n",
       "    }\n",
       "</style>\n",
       "<table border=\"1\" class=\"dataframe\">\n",
       "  <thead>\n",
       "    <tr style=\"text-align: right;\">\n",
       "      <th></th>\n",
       "      <th>id</th>\n",
       "      <th>has_cactus</th>\n",
       "    </tr>\n",
       "  </thead>\n",
       "  <tbody>\n",
       "    <tr>\n",
       "      <th>15720</th>\n",
       "      <td>e56f7abc98bae5720eba8563a31c8377.jpg</td>\n",
       "      <td>1</td>\n",
       "    </tr>\n",
       "    <tr>\n",
       "      <th>11971</th>\n",
       "      <td>ad55f324f511caf714443f951e1ef720.jpg</td>\n",
       "      <td>1</td>\n",
       "    </tr>\n",
       "    <tr>\n",
       "      <th>16771</th>\n",
       "      <td>f526aae92b4fcfcae129ad12fc15c8e8.jpg</td>\n",
       "      <td>1</td>\n",
       "    </tr>\n",
       "    <tr>\n",
       "      <th>2060</th>\n",
       "      <td>1cefa5c6a214552edf3324f428734b96.jpg</td>\n",
       "      <td>1</td>\n",
       "    </tr>\n",
       "    <tr>\n",
       "      <th>4346</th>\n",
       "      <td>3d5aa5f48c42ff488cad43597dd59d50.jpg</td>\n",
       "      <td>1</td>\n",
       "    </tr>\n",
       "  </tbody>\n",
       "</table>\n",
       "</div>"
      ],
      "text/plain": [
       "                                         id  has_cactus\n",
       "15720  e56f7abc98bae5720eba8563a31c8377.jpg           1\n",
       "11971  ad55f324f511caf714443f951e1ef720.jpg           1\n",
       "16771  f526aae92b4fcfcae129ad12fc15c8e8.jpg           1\n",
       "2060   1cefa5c6a214552edf3324f428734b96.jpg           1\n",
       "4346   3d5aa5f48c42ff488cad43597dd59d50.jpg           1"
      ]
     },
     "execution_count": 27,
     "metadata": {
      "tags": []
     },
     "output_type": "execute_result"
    }
   ],
   "source": [
    "df.sample(5)"
   ]
  },
  {
   "cell_type": "code",
   "execution_count": 0,
   "metadata": {
    "colab": {},
    "colab_type": "code",
    "id": "SJmrOdSYXPrg"
   },
   "outputs": [],
   "source": [
    "!unzip train.zip"
   ]
  },
  {
   "cell_type": "code",
   "execution_count": 29,
   "metadata": {
    "colab": {
     "base_uri": "https://localhost:8080/",
     "height": 34
    },
    "colab_type": "code",
    "id": "FL1sBWMZqRGE",
    "outputId": "7c69bd7e-28e9-4a5b-b46b-049fd64941ad"
   },
   "outputs": [
    {
     "data": {
      "text/plain": [
       "(17500, 2)"
      ]
     },
     "execution_count": 29,
     "metadata": {
      "tags": []
     },
     "output_type": "execute_result"
    }
   ],
   "source": [
    "df.shape"
   ]
  },
  {
   "cell_type": "code",
   "execution_count": 30,
   "metadata": {
    "colab": {
     "base_uri": "https://localhost:8080/",
     "height": 68
    },
    "colab_type": "code",
    "id": "HtZym2vFeGmR",
    "outputId": "6fb9d3f0-ba6e-4999-d8c8-f99795bdcfc7"
   },
   "outputs": [
    {
     "data": {
      "text/plain": [
       "1    4441\n",
       "0    1559\n",
       "Name: has_cactus, dtype: int64"
      ]
     },
     "execution_count": 30,
     "metadata": {
      "tags": []
     },
     "output_type": "execute_result"
    }
   ],
   "source": [
    "df_sample = df.sample(6000, random_state=333)\n",
    "df_sample['has_cactus'].value_counts()"
   ]
  },
  {
   "cell_type": "code",
   "execution_count": 0,
   "metadata": {
    "colab": {},
    "colab_type": "code",
    "id": "DDtAaUWnOR9Y"
   },
   "outputs": [],
   "source": []
  },
  {
   "cell_type": "markdown",
   "metadata": {
    "colab_type": "text",
    "id": "bXOCgkkpPEPq"
   },
   "source": [
    "## **we are in a 73% balanced ratio**"
   ]
  },
  {
   "cell_type": "code",
   "execution_count": 31,
   "metadata": {
    "colab": {
     "base_uri": "https://localhost:8080/",
     "height": 34
    },
    "colab_type": "code",
    "id": "YVmY2xBdVxrz",
    "outputId": "a1ac7208-6c2c-4a93-b00c-3a4bdd70a8f4"
   },
   "outputs": [
    {
     "data": {
      "text/plain": [
       "((4200, 2), (1800, 2))"
      ]
     },
     "execution_count": 31,
     "metadata": {
      "tags": []
     },
     "output_type": "execute_result"
    }
   ],
   "source": [
    "from sklearn.model_selection import train_test_split\n",
    "df_train, df_test = train_test_split(df_sample, test_size=0.3, random_state=0)\n",
    "df_train.shape, df_test.shape"
   ]
  },
  {
   "cell_type": "code",
   "execution_count": 32,
   "metadata": {
    "colab": {
     "base_uri": "https://localhost:8080/",
     "height": 68
    },
    "colab_type": "code",
    "id": "7fI7Wc25dToQ",
    "outputId": "c4180eac-3bcd-426d-e1f1-92de4fe75db0"
   },
   "outputs": [
    {
     "data": {
      "text/plain": [
       "1    3085\n",
       "0    1115\n",
       "Name: has_cactus, dtype: int64"
      ]
     },
     "execution_count": 32,
     "metadata": {
      "tags": []
     },
     "output_type": "execute_result"
    }
   ],
   "source": [
    "df_train['has_cactus'].value_counts()"
   ]
  },
  {
   "cell_type": "markdown",
   "metadata": {
    "colab_type": "text",
    "id": "EqtQJwWHR8Jz"
   },
   "source": [
    "### this func will help us build a file name using the 'id' of an image, later to \"imread it\" !"
   ]
  },
  {
   "cell_type": "code",
   "execution_count": 0,
   "metadata": {
    "colab": {},
    "colab_type": "code",
    "id": "R_T4-eM7cwOC"
   },
   "outputs": [],
   "source": [
    "def read_image(row):\n",
    "  \n",
    "  fname = 'train/' + str(row['id'])\n",
    "  image = plt.imread(fname)\n",
    "  \n",
    "  return image"
   ]
  },
  {
   "cell_type": "markdown",
   "metadata": {
    "colab_type": "text",
    "id": "Z1fJGS1vVKTO"
   },
   "source": [
    "### next we will build an array of the images with the same loc as thier labels in the train.csv"
   ]
  },
  {
   "cell_type": "code",
   "execution_count": 0,
   "metadata": {
    "colab": {},
    "colab_type": "code",
    "id": "6rj0LzY8ewQ2"
   },
   "outputs": [],
   "source": [
    "images = []\n",
    "\n",
    "for i in range(len(df_train)):\n",
    "  \n",
    "   images.append(read_image(df_train.iloc[i]).flatten())\n",
    "    \n",
    "images = np.array(images)\n",
    "    \n",
    "labels = df_train['has_cactus'].values"
   ]
  },
  {
   "cell_type": "code",
   "execution_count": 35,
   "metadata": {
    "colab": {
     "base_uri": "https://localhost:8080/",
     "height": 34
    },
    "colab_type": "code",
    "id": "ohkJ4bcNoNBs",
    "outputId": "71f70150-0817-4f64-f6ac-e3877410d3a1"
   },
   "outputs": [
    {
     "data": {
      "text/plain": [
       "((4200, 3072), (4200,))"
      ]
     },
     "execution_count": 35,
     "metadata": {
      "tags": []
     },
     "output_type": "execute_result"
    }
   ],
   "source": [
    "images.shape, labels.shape"
   ]
  },
  {
   "cell_type": "code",
   "execution_count": 0,
   "metadata": {
    "colab": {},
    "colab_type": "code",
    "id": "p0EvBI8yMlOl"
   },
   "outputs": [],
   "source": [
    "test_images = []\n",
    "\n",
    "for i in range(len(df_test)):\n",
    "  \n",
    "  test_images.append(read_image(df_test.iloc[i]).flatten())\n",
    "\n",
    "test_images = np.array(test_images)\n",
    "test_labels = df_test['has_cactus'].values"
   ]
  },
  {
   "cell_type": "code",
   "execution_count": 37,
   "metadata": {
    "colab": {
     "base_uri": "https://localhost:8080/",
     "height": 34
    },
    "colab_type": "code",
    "id": "aEmsf3nGMpKb",
    "outputId": "0a81cd6b-285f-4fb0-aeed-e07919f9cb57"
   },
   "outputs": [
    {
     "data": {
      "text/plain": [
       "((1800, 3072), (1800,))"
      ]
     },
     "execution_count": 37,
     "metadata": {
      "tags": []
     },
     "output_type": "execute_result"
    }
   ],
   "source": [
    "test_images.shape, test_labels.shape"
   ]
  },
  {
   "cell_type": "markdown",
   "metadata": {
    "colab_type": "text",
    "id": "VH_KYuBPM9OM"
   },
   "source": [
    "## **Importing models & tools**"
   ]
  },
  {
   "cell_type": "code",
   "execution_count": 0,
   "metadata": {
    "colab": {},
    "colab_type": "code",
    "id": "ZgXM72qtpMwq"
   },
   "outputs": [],
   "source": [
    "from sklearn.ensemble import VotingClassifier, BaggingClassifier, \\\n",
    "    AdaBoostClassifier, GradientBoostingClassifier, RandomForestClassifier\n",
    "from sklearn.metrics import confusion_matrix, classification_report\n",
    "from sklearn.metrics import accuracy_score\n",
    "from sklearn.tree import DecisionTreeClassifier, export_graphviz\n",
    "from sklearn.metrics import roc_curve, roc_auc_score\n",
    "from sklearn.model_selection import validation_curve\n",
    "\n"
   ]
  },
  {
   "cell_type": "markdown",
   "metadata": {
    "colab_type": "text",
    "id": "cy347_t4WLIq"
   },
   "source": [
    "### report func for the train & test"
   ]
  },
  {
   "cell_type": "code",
   "execution_count": 0,
   "metadata": {
    "colab": {},
    "colab_type": "code",
    "id": "fCDwD9nJ71B1"
   },
   "outputs": [],
   "source": [
    "def report(y, y_pred, classes):\n",
    "  acc = accuracy_score(y, y_pred)\n",
    "  \n",
    "  cm = pd.DataFrame(confusion_matrix(y, y_pred), \n",
    "                   index = classes, \n",
    "                   columns = classes)\n",
    "  rep = classification_report(y, y_pred)\n",
    "  \n",
    "  return 'accuracy_score: {:.3f}\\n\\n{}\\n\\n{}'.format(acc, cm, rep)"
   ]
  },
  {
   "cell_type": "code",
   "execution_count": 0,
   "metadata": {
    "colab": {},
    "colab_type": "code",
    "id": "mqY_yf5pJgAk"
   },
   "outputs": [],
   "source": [
    "def test_report(test_labels, pred_test, classes):\n",
    "  acc = accuracy_score(test_labels, pred_test)\n",
    "  \n",
    "  cm = pd.DataFrame(confusion_matrix(test_labels, pred_test), \n",
    "                   index = classes, \n",
    "                   columns = classes)\n",
    "  rep = classification_report(test_labels, pred_test)\n",
    "  \n",
    "  return 'accuracy_score: {:.3f}\\n\\n{}\\n\\n{}'.format(acc, cm, rep)"
   ]
  },
  {
   "cell_type": "markdown",
   "metadata": {
    "colab_type": "text",
    "id": "VZOfg5lZXjpu"
   },
   "source": [
    "# **MODEL 1 : DecisionTreeClassifier - As a base model !!!**"
   ]
  },
  {
   "cell_type": "markdown",
   "metadata": {
    "colab_type": "text",
    "id": "MQHRPzZlXe4P"
   },
   "source": []
  },
  {
   "cell_type": "code",
   "execution_count": 0,
   "metadata": {
    "colab": {},
    "colab_type": "code",
    "id": "MieVmAcmk4FU"
   },
   "outputs": [],
   "source": [
    "X = images\n",
    "y = labels"
   ]
  },
  {
   "cell_type": "markdown",
   "metadata": {
    "colab_type": "text",
    "id": "tuqHWPiVh2FC"
   },
   "source": [
    "### ploting a validation curve in order to find the proper 'max depth'"
   ]
  },
  {
   "cell_type": "code",
   "execution_count": 42,
   "metadata": {
    "colab": {
     "base_uri": "https://localhost:8080/",
     "height": 300
    },
    "colab_type": "code",
    "id": "vAz4BmH7iqkB",
    "outputId": "298a4c2c-6f62-400f-f3c7-e1ae6681aab3"
   },
   "outputs": [
    {
     "data": {
      "image/png": "[encoded data removed]",
      "text/plain": [
       "<Figure size 432x288 with 1 Axes>"
      ]
     },
     "metadata": {
      "tags": []
     },
     "output_type": "display_data"
    }
   ],
   "source": [
    "param='max_depth'\n",
    "param_range = range(1,30)\n",
    "train_scores, test_scores = validation_curve(DecisionTreeClassifier(), X, y, \n",
    "                                            param_name=param,\n",
    "                                            param_range=param_range, \n",
    "                                             cv=10)\n",
    "train_scores_mean = np.mean(train_scores, axis=1)\n",
    "train_scores_std = np.std(train_scores, axis=1)\n",
    "test_scores_mean = np.mean(test_scores, axis=1)\n",
    "test_scores_std = np.std(test_scores, axis=1)\n",
    "\n",
    "plt.title(\"cactus - validation Curve with DecisionTreeRegressor\")\n",
    "plt.xlabel(param)\n",
    "plt.ylabel(\"Score\")\n",
    "plt.ylim(0.0, 1.1)\n",
    "lw = 2\n",
    "\n",
    "plt.semilogx(param_range, train_scores_mean, label=\"Training score\",\n",
    "             color=\"darkorange\", lw=lw)\n",
    "plt.fill_between(param_range, train_scores_mean - train_scores_std,\n",
    "                 train_scores_mean + train_scores_std, alpha=0.2,\n",
    "                 color=\"darkorange\", lw=lw)\n",
    "plt.semilogx(param_range, test_scores_mean, label=\"Cross-validation score\",\n",
    "             color=\"navy\", lw=lw)\n",
    "plt.fill_between(param_range, test_scores_mean - test_scores_std,\n",
    "                 test_scores_mean + test_scores_std, alpha=0.2,\n",
    "                 color=\"navy\", lw=lw)\n",
    "plt.legend(loc=\"best\")\n",
    "plt.show()"
   ]
  },
  {
   "cell_type": "markdown",
   "metadata": {
    "colab_type": "text",
    "id": "pYI4V8aLeGGm"
   },
   "source": [
    "### looking at the Validation curve we can see that max_depth=5 will suit us best !"
   ]
  },
  {
   "cell_type": "code",
   "execution_count": 43,
   "metadata": {
    "colab": {
     "base_uri": "https://localhost:8080/",
     "height": 272
    },
    "colab_type": "code",
    "id": "JUClKPk1_Wwf",
    "outputId": "23655a6a-d0e7-4eed-9e89-02bcb8c04018"
   },
   "outputs": [
    {
     "name": "stdout",
     "output_type": "stream",
     "text": [
      "accuracy_score: 0.855\n",
      "\n",
      "            no_cacatus  has_cactus\n",
      "no_cacatus         669         446\n",
      "has_cactus         165        2920\n",
      "\n",
      "              precision    recall  f1-score   support\n",
      "\n",
      "           0       0.80      0.60      0.69      1115\n",
      "           1       0.87      0.95      0.91      3085\n",
      "\n",
      "    accuracy                           0.85      4200\n",
      "   macro avg       0.83      0.77      0.80      4200\n",
      "weighted avg       0.85      0.85      0.85      4200\n",
      "\n"
     ]
    }
   ],
   "source": [
    "clf = DecisionTreeClassifier(max_depth=5, \n",
    "                             min_samples_split=2, \n",
    "                             min_samples_leaf=1).fit(X, y) # class_weight={0: 2, 1: 1},\n",
    "y_pred = clf.predict(X)\n",
    "\n",
    "print(report(y, y_pred, ['no_cacatus', 'has_cactus']))"
   ]
  },
  {
   "cell_type": "code",
   "execution_count": 44,
   "metadata": {
    "colab": {
     "base_uri": "https://localhost:8080/",
     "height": 272
    },
    "colab_type": "code",
    "id": "DQHwi-RcN82S",
    "outputId": "b803dcf6-6140-4f34-aed8-9ffe9f4af011"
   },
   "outputs": [
    {
     "name": "stdout",
     "output_type": "stream",
     "text": [
      "accuracy_score: 0.828\n",
      "\n",
      "            no_cacatus  has_cactus\n",
      "no_cacatus         240         204\n",
      "has_cactus         105        1251\n",
      "\n",
      "              precision    recall  f1-score   support\n",
      "\n",
      "           0       0.70      0.54      0.61       444\n",
      "           1       0.86      0.92      0.89      1356\n",
      "\n",
      "    accuracy                           0.83      1800\n",
      "   macro avg       0.78      0.73      0.75      1800\n",
      "weighted avg       0.82      0.83      0.82      1800\n",
      "\n"
     ]
    }
   ],
   "source": [
    "pred_test = clf.predict(test_images)\n",
    "\n",
    "print(test_report(test_labels, pred_test, ['no_cacatus', 'has_cactus']))"
   ]
  },
  {
   "cell_type": "markdown",
   "metadata": {
    "colab_type": "text",
    "id": "N6_JXEwEX8of"
   },
   "source": []
  },
  {
   "cell_type": "markdown",
   "metadata": {
    "colab_type": "text",
    "id": "0_PyYe19YEBu"
   },
   "source": [
    "# **MODEL 2 : RandomForestClassifier** + 2 experiments "
   ]
  },
  {
   "cell_type": "markdown",
   "metadata": {
    "colab_type": "text",
    "id": "WIZmEeaBpsQ2"
   },
   "source": [
    "## 1. with \" *enlargement* \" - resizing to 128 x 128"
   ]
  },
  {
   "cell_type": "code",
   "execution_count": 0,
   "metadata": {
    "colab": {},
    "colab_type": "code",
    "id": "PlFcVIWxcSiB"
   },
   "outputs": [],
   "source": [
    "from sklearn.model_selection import train_test_split, cross_val_score,\\\n",
    "    GridSearchCV"
   ]
  },
  {
   "cell_type": "code",
   "execution_count": 0,
   "metadata": {
    "colab": {},
    "colab_type": "code",
    "id": "IzxolrXXlrNF"
   },
   "outputs": [],
   "source": [
    "def read_image(row):\n",
    "  \n",
    "  fname = 'train/' + str(row['id'])\n",
    "  image = cv2.imread(fname)\n",
    "  image = cv.resize(image,dsize=(128,128),interpolation=cv.INTER_CUBIC)\n",
    "  \n",
    "  return image\n",
    "##############################\n",
    "\n",
    "images = []\n",
    "\n",
    "for i in range(len(df_train)):\n",
    "  \n",
    "   images.append(read_image(df_train.iloc[i]).flatten())\n",
    "    \n",
    "images = np.array(images)\n",
    "    \n",
    "labels = df_train['has_cactus'].values\n",
    "##############################\n",
    "\n",
    "test_images = []\n",
    "\n",
    "for i in range(len(df_test)):\n",
    "  \n",
    "  test_images.append(read_image(df_test.iloc[i]).flatten())\n",
    "\n",
    "test_images = np.array(test_images)\n",
    "test_labels = df_test['has_cactus'].values\n",
    "##############################\n",
    "\n",
    "X1 = images\n",
    "\n",
    "y = labels\n",
    "\n",
    "test_images = test_images"
   ]
  },
  {
   "cell_type": "code",
   "execution_count": 47,
   "metadata": {
    "colab": {
     "base_uri": "https://localhost:8080/",
     "height": 136
    },
    "colab_type": "code",
    "id": "avzgjYvrYXe6",
    "outputId": "dc96334f-aa9a-4e1e-ab5b-f8ce40f5eede"
   },
   "outputs": [
    {
     "data": {
      "text/plain": [
       "RandomForestClassifier(bootstrap=True, class_weight=None, criterion='gini',\n",
       "                       max_depth=5, max_features='auto', max_leaf_nodes=None,\n",
       "                       min_impurity_decrease=0.0, min_impurity_split=None,\n",
       "                       min_samples_leaf=1, min_samples_split=2,\n",
       "                       min_weight_fraction_leaf=0.0, n_estimators=10,\n",
       "                       n_jobs=None, oob_score=False, random_state=None,\n",
       "                       verbose=0, warm_start=False)"
      ]
     },
     "execution_count": 47,
     "metadata": {
      "tags": []
     },
     "output_type": "execute_result"
    }
   ],
   "source": [
    "clf = RandomForestClassifier(max_depth=5)\n",
    "\n",
    "clf.fit(X1,y)\n"
   ]
  },
  {
   "cell_type": "code",
   "execution_count": 48,
   "metadata": {
    "colab": {
     "base_uri": "https://localhost:8080/",
     "height": 204
    },
    "colab_type": "code",
    "id": "SdCUAfjJtJph",
    "outputId": "08676a9d-3548-4664-b1a7-ca08744c13eb"
   },
   "outputs": [
    {
     "name": "stdout",
     "output_type": "stream",
     "text": [
      "accuracy : 0.8859523809523809 \n",
      "\n",
      "              precision    recall  f1-score   support\n",
      "\n",
      "           0       0.94      0.61      0.74      1115\n",
      "           1       0.87      0.99      0.93      3085\n",
      "\n",
      "    accuracy                           0.89      4200\n",
      "   macro avg       0.91      0.80      0.83      4200\n",
      "weighted avg       0.89      0.89      0.88      4200\n",
      "\n"
     ]
    }
   ],
   "source": [
    "y_pred = clf.predict(X1)\n",
    "\n",
    "print('accuracy :', accuracy_score(y, y_pred), '\\n')\n",
    "print(classification_report(y, y_pred))"
   ]
  },
  {
   "cell_type": "code",
   "execution_count": 49,
   "metadata": {
    "colab": {
     "base_uri": "https://localhost:8080/",
     "height": 204
    },
    "colab_type": "code",
    "id": "AUA6lr61v6qS",
    "outputId": "aff0de97-d4c6-4774-c6c4-3853497136e9"
   },
   "outputs": [
    {
     "name": "stdout",
     "output_type": "stream",
     "text": [
      "accuracy : 0.8694444444444445 \n",
      "\n",
      "              precision    recall  f1-score   support\n",
      "\n",
      "           0       0.89      0.53      0.67       444\n",
      "           1       0.87      0.98      0.92      1356\n",
      "\n",
      "    accuracy                           0.87      1800\n",
      "   macro avg       0.88      0.76      0.79      1800\n",
      "weighted avg       0.87      0.87      0.86      1800\n",
      "\n"
     ]
    }
   ],
   "source": [
    "pred_test = clf.predict(test_images)\n",
    "\n",
    "print('accuracy :', accuracy_score(test_labels, pred_test), '\\n')\n",
    "\n",
    "print(classification_report(test_labels, pred_test))"
   ]
  },
  {
   "cell_type": "markdown",
   "metadata": {
    "colab_type": "text",
    "id": "qXx65UZJWjcm"
   },
   "source": [
    "##For indication of the classifier quality it is sometimmes useful to look at the area under the ROC curve"
   ]
  },
  {
   "cell_type": "code",
   "execution_count": 0,
   "metadata": {
    "colab": {},
    "colab_type": "code",
    "id": "Ji1NJKhzFymy"
   },
   "outputs": [],
   "source": [
    "test_roc_labels = pd.DataFrame(data=test_labels)"
   ]
  },
  {
   "cell_type": "code",
   "execution_count": 51,
   "metadata": {
    "colab": {
     "base_uri": "https://localhost:8080/",
     "height": 295
    },
    "colab_type": "code",
    "id": "p8XD4Ln7PXDR",
    "outputId": "7bfee5f0-ffc4-4b7a-fe76-1fe4ec78b134"
   },
   "outputs": [
    {
     "data": {
      "image/png": "[encoded data removed]",
      "text/plain": [
       "<Figure size 432x288 with 1 Axes>"
      ]
     },
     "metadata": {
      "tags": []
     },
     "output_type": "display_data"
    }
   ],
   "source": [
    " scores = clf.predict_proba(test_images)\n",
    "fpr, tpr, thresholds = roc_curve(test_roc_labels.values, scores[:,1])\n",
    "plt.plot(fpr, tpr)\n",
    "plt.title('ROC')\n",
    "plt.xlabel('FPR (False Positive Rate = 1-specificity)')\n",
    "plt.ylabel('TPR (True Positive Rate = sensitivity)')\n",
    "plt.title('ROC = '+str(roc_auc_score(test_roc_labels.values, scores[:,1])));"
   ]
  },
  {
   "cell_type": "code",
   "execution_count": 0,
   "metadata": {
    "colab": {},
    "colab_type": "code",
    "id": "oMxvctuPOtV0"
   },
   "outputs": [],
   "source": []
  },
  {
   "cell_type": "markdown",
   "metadata": {
    "colab_type": "text",
    "id": "5dX9AMO4PhNq"
   },
   "source": []
  },
  {
   "cell_type": "markdown",
   "metadata": {
    "colab_type": "text",
    "id": "t-fnn_LyPfWO"
   },
   "source": [
    "## 2. predicting with the ***contours*** of the images"
   ]
  },
  {
   "cell_type": "code",
   "execution_count": 0,
   "metadata": {
    "colab": {},
    "colab_type": "code",
    "id": "5UlItBzPOtvk"
   },
   "outputs": [],
   "source": [
    "def read_image(row):\n",
    "  \n",
    "  fname = 'train/' + str(row['id'])\n",
    "  image = cv2.imread(fname)\n",
    "  image = cv.resize(image,dsize=(128,128),interpolation=cv.INTER_CUBIC)\n",
    "  image = cv2.cvtColor(image,cv2.COLOR_BGR2GRAY)\n",
    "  ret,thresh = cv2.threshold(image,177,255,0)\n",
    "  image, contours, hierarchy = cv2.findContours(thresh,cv2.RETR_TREE,cv2.CHAIN_APPROX_SIMPLE)\n",
    "\n",
    "  return image\n",
    "##############################\n",
    "\n",
    "images = []\n",
    "\n",
    "for i in range(len(df_train)):\n",
    "  \n",
    "   images.append(read_image(df_train.iloc[i]).flatten())\n",
    "    \n",
    "images = np.array(images)\n",
    "    \n",
    "labels = df_train['has_cactus'].values\n",
    "##############################\n",
    "\n",
    "test_images = []\n",
    "\n",
    "for i in range(len(df_test)):\n",
    "  \n",
    "  test_images.append(read_image(df_test.iloc[i]).flatten())\n",
    "\n",
    "test_images = np.array(test_images)\n",
    "test_labels = df_test['has_cactus'].values\n",
    "##############################\n",
    "\n",
    "X2 = images\n",
    "\n",
    "y = labels\n",
    "\n",
    "test_images = test_images"
   ]
  },
  {
   "cell_type": "code",
   "execution_count": 0,
   "metadata": {
    "colab": {},
    "colab_type": "code",
    "id": "uKbdHYm3QqFH"
   },
   "outputs": [],
   "source": [
    "clf.fit(X2,y)\n",
    "\n",
    "y_pred = clf.predict(X2)"
   ]
  },
  {
   "cell_type": "code",
   "execution_count": 54,
   "metadata": {
    "colab": {
     "base_uri": "https://localhost:8080/",
     "height": 204
    },
    "colab_type": "code",
    "id": "86B-JXR3Q94v",
    "outputId": "47a8a222-bc37-4e75-ff7e-6c6190aa7a62"
   },
   "outputs": [
    {
     "name": "stdout",
     "output_type": "stream",
     "text": [
      "accuracy : 0.7538888888888889 \n",
      "\n",
      "              precision    recall  f1-score   support\n",
      "\n",
      "           0       1.00      0.00      0.00       444\n",
      "           1       0.75      1.00      0.86      1356\n",
      "\n",
      "    accuracy                           0.75      1800\n",
      "   macro avg       0.88      0.50      0.43      1800\n",
      "weighted avg       0.81      0.75      0.65      1800\n",
      "\n"
     ]
    }
   ],
   "source": [
    "pred_test = clf.predict(test_images)\n",
    "\n",
    "print('accuracy :', accuracy_score(test_labels, pred_test), '\\n')\n",
    "\n",
    "print(classification_report(test_labels, pred_test))"
   ]
  },
  {
   "cell_type": "markdown",
   "metadata": {
    "colab_type": "text",
    "id": "c-KUQKqA46PY"
   },
   "source": [
    "# **MODEL 2 : RandomForestClassifier + GridSearchCV**"
   ]
  },
  {
   "cell_type": "markdown",
   "metadata": {
    "colab_type": "text",
    "id": "nVS2-djd4u9Z"
   },
   "source": []
  },
  {
   "cell_type": "code",
   "execution_count": 0,
   "metadata": {
    "colab": {},
    "colab_type": "code",
    "id": "VkWoS9cNU4_l"
   },
   "outputs": [],
   "source": [
    "def read_image(row):\n",
    "  \n",
    "  fname = 'train/' + str(row['id'])\n",
    "  image = plt.imread(fname)\n",
    "  \n",
    "  return image"
   ]
  },
  {
   "cell_type": "code",
   "execution_count": 0,
   "metadata": {
    "colab": {},
    "colab_type": "code",
    "id": "E6XlSQmvVB92"
   },
   "outputs": [],
   "source": [
    "test_images = []\n",
    "\n",
    "for i in range(len(df_test)):\n",
    "  \n",
    "  test_images.append(read_image(df_test.iloc[i]).flatten())\n",
    "\n",
    "test_images = np.array(test_images)"
   ]
  },
  {
   "cell_type": "code",
   "execution_count": 0,
   "metadata": {
    "colab": {},
    "colab_type": "code",
    "id": "vY1z4Z084r74"
   },
   "outputs": [],
   "source": [
    "param_grid = {'max_depth': [20],\n",
    "    'max_features': [5],\n",
    "    'min_samples_leaf': [3, 4, 5],\n",
    "    'min_samples_split': [4, 6, 8]}"
   ]
  },
  {
   "cell_type": "code",
   "execution_count": 0,
   "metadata": {
    "colab": {},
    "colab_type": "code",
    "id": "CFF6Uh5h54hw"
   },
   "outputs": [],
   "source": [
    "clf = RandomForestClassifier(bootstrap=False, n_estimators=50)\n",
    "\n",
    "grid_search = GridSearchCV(estimator = clf, param_grid = param_grid, \n",
    "                          cv = 10, n_jobs = -1, verbose = 2)"
   ]
  },
  {
   "cell_type": "code",
   "execution_count": 57,
   "metadata": {
    "colab": {
     "base_uri": "https://localhost:8080/",
     "height": 442
    },
    "colab_type": "code",
    "id": "vXVbRjgrpCst",
    "outputId": "97b3eb86-0896-4692-add9-e353a38c289e"
   },
   "outputs": [
    {
     "name": "stdout",
     "output_type": "stream",
     "text": [
      "Fitting 10 folds for each of 9 candidates, totalling 90 fits\n"
     ]
    },
    {
     "name": "stderr",
     "output_type": "stream",
     "text": [
      "[Parallel(n_jobs=-1)]: Using backend LokyBackend with 2 concurrent workers.\n",
      "[Parallel(n_jobs=-1)]: Done  37 tasks      | elapsed:   24.4s\n",
      "[Parallel(n_jobs=-1)]: Done  90 out of  90 | elapsed:   55.3s finished\n"
     ]
    },
    {
     "data": {
      "text/plain": [
       "GridSearchCV(cv=10, error_score='raise-deprecating',\n",
       "             estimator=RandomForestClassifier(bootstrap=False,\n",
       "                                              class_weight=None,\n",
       "                                              criterion='gini', max_depth=None,\n",
       "                                              max_features='auto',\n",
       "                                              max_leaf_nodes=None,\n",
       "                                              min_impurity_decrease=0.0,\n",
       "                                              min_impurity_split=None,\n",
       "                                              min_samples_leaf=1,\n",
       "                                              min_samples_split=2,\n",
       "                                              min_weight_fraction_leaf=0.0,\n",
       "                                              n_estimators=50, n_jobs=None,\n",
       "                                              oob_score=False,\n",
       "                                              random_state=None, verbose=0,\n",
       "                                              warm_start=False),\n",
       "             iid='warn', n_jobs=-1,\n",
       "             param_grid={'max_depth': [20], 'max_features': [5],\n",
       "                         'min_samples_leaf': [3, 4, 5],\n",
       "                         'min_samples_split': [4, 6, 8]},\n",
       "             pre_dispatch='2*n_jobs', refit=True, return_train_score=False,\n",
       "             scoring=None, verbose=2)"
      ]
     },
     "execution_count": 57,
     "metadata": {
      "tags": []
     },
     "output_type": "execute_result"
    }
   ],
   "source": [
    "grid_search.fit(X,y)"
   ]
  },
  {
   "cell_type": "code",
   "execution_count": 58,
   "metadata": {
    "colab": {
     "base_uri": "https://localhost:8080/",
     "height": 170
    },
    "colab_type": "code",
    "id": "yicWpUAy5wkV",
    "outputId": "ff92242e-18a4-4991-fec5-2f96e6a84d7d"
   },
   "outputs": [
    {
     "name": "stdout",
     "output_type": "stream",
     "text": [
      "Best model: RandomForestClassifier(bootstrap=False, class_weight=None, criterion='gini',\n",
      "                       max_depth=20, max_features=5, max_leaf_nodes=None,\n",
      "                       min_impurity_decrease=0.0, min_impurity_split=None,\n",
      "                       min_samples_leaf=3, min_samples_split=6,\n",
      "                       min_weight_fraction_leaf=0.0, n_estimators=50,\n",
      "                       n_jobs=None, oob_score=False, random_state=None,\n",
      "                       verbose=0, warm_start=False)\n",
      "Best parameters: {'max_depth': 20, 'max_features': 5, 'min_samples_leaf': 3, 'min_samples_split': 6}\n",
      "Best score: 0.87\n"
     ]
    }
   ],
   "source": [
    "print (\"Best model:\", grid_search.best_estimator_)\n",
    "print (\"Best parameters:\", grid_search.best_params_)\n",
    "print (\"Best score:\", grid_search.best_score_)"
   ]
  },
  {
   "cell_type": "code",
   "execution_count": 62,
   "metadata": {
    "colab": {
     "base_uri": "https://localhost:8080/",
     "height": 34
    },
    "colab_type": "code",
    "id": "QblvJBGI-roR",
    "outputId": "b57d61a9-3edf-452a-c815-1d7440a154a1"
   },
   "outputs": [
    {
     "name": "stdout",
     "output_type": "stream",
     "text": [
      "accuracy : 0.8855555555555555\n"
     ]
    }
   ],
   "source": [
    "pred_test = grid_search.predict(test_images)\n",
    "\n",
    "print('accuracy :', accuracy_score(test_labels, pred_test))"
   ]
  },
  {
   "cell_type": "markdown",
   "metadata": {
    "colab_type": "text",
    "id": "ma7cwVuHFSa0"
   },
   "source": [
    "# XGBoost MODEL"
   ]
  },
  {
   "cell_type": "code",
   "execution_count": 0,
   "metadata": {
    "colab": {},
    "colab_type": "code",
    "id": "YFPRpRZJFd3P"
   },
   "outputs": [],
   "source": [
    "from xgboost import XGBClassifier"
   ]
  },
  {
   "cell_type": "code",
   "execution_count": 0,
   "metadata": {
    "colab": {},
    "colab_type": "code",
    "id": "17SaXkoCGIDZ"
   },
   "outputs": [],
   "source": [
    "clf = XGBClassifier()"
   ]
  },
  {
   "cell_type": "code",
   "execution_count": 65,
   "metadata": {
    "colab": {
     "base_uri": "https://localhost:8080/",
     "height": 34
    },
    "colab_type": "code",
    "id": "_VeTk5ZWPXi0",
    "outputId": "4854dff0-6093-4bc2-acb8-3ca3f7037db4"
   },
   "outputs": [
    {
     "name": "stdout",
     "output_type": "stream",
     "text": [
      "accuracy : 0.9797619047619047\n"
     ]
    }
   ],
   "source": [
    "clf.fit(X, y)\n",
    "\n",
    "y_pred = clf.predict(X)\n",
    "\n",
    "print('accuracy :', accuracy_score(y, y_pred))"
   ]
  },
  {
   "cell_type": "code",
   "execution_count": 66,
   "metadata": {
    "colab": {
     "base_uri": "https://localhost:8080/",
     "height": 204
    },
    "colab_type": "code",
    "id": "X7mGtIgxPXbZ",
    "outputId": "2f8a35de-52c1-46c5-c4fa-a613e4dc1ac0"
   },
   "outputs": [
    {
     "name": "stdout",
     "output_type": "stream",
     "text": [
      "accuracy : 0.9322222222222222 \n",
      "\n",
      "              precision    recall  f1-score   support\n",
      "\n",
      "           0       0.93      0.79      0.85       444\n",
      "           1       0.93      0.98      0.96      1356\n",
      "\n",
      "    accuracy                           0.93      1800\n",
      "   macro avg       0.93      0.88      0.90      1800\n",
      "weighted avg       0.93      0.93      0.93      1800\n",
      "\n"
     ]
    }
   ],
   "source": [
    "pred_test = clf.predict(test_images)\n",
    "\n",
    "print('accuracy :', accuracy_score(test_labels, pred_test), '\\n')\n",
    "\n",
    "print(classification_report(test_labels, pred_test))"
   ]
  },
  {
   "cell_type": "markdown",
   "metadata": {
    "colab_type": "text",
    "id": "essP8R_PY9DY"
   },
   "source": [
    "\n",
    "\n",
    "---\n",
    "\n",
    "\n",
    "# DEEP LEARNING\n",
    "\n",
    "---\n",
    "\n",
    "\n",
    "\n"
   ]
  },
  {
   "cell_type": "code",
   "execution_count": 0,
   "metadata": {
    "colab": {},
    "colab_type": "code",
    "id": "1ZvsqVuKWBfx"
   },
   "outputs": [],
   "source": [
    "import keras\n",
    "# Keras has many build in data sets\n",
    "from keras.datasets import mnist\n",
    "# Sequential is the basic feed forward neural network (FFN)\n",
    "from keras.models import Sequential\n",
    "# Dense is fully connected layer\n",
    "# Dropout is a \"noising\" layer, to prevent over feet.\n",
    "from keras.layers import Dense, Dropout\n",
    "# Read about optimizers in keras documentation\n",
    "from keras.optimizers import RMSprop"
   ]
  },
  {
   "cell_type": "code",
   "execution_count": 0,
   "metadata": {
    "colab": {},
    "colab_type": "code",
    "id": "6-x526g4b5jT"
   },
   "outputs": [],
   "source": [
    "from keras.utils import to_categorical\n",
    "\n",
    "\n",
    "y = to_categorical(y)\n",
    "test_labels = to_categorical(test_labels)"
   ]
  },
  {
   "cell_type": "code",
   "execution_count": 0,
   "metadata": {
    "colab": {},
    "colab_type": "code",
    "id": "9AcD4WadBUAA"
   },
   "outputs": [],
   "source": [
    "def drow_history(history, metric):\n",
    "    plt.plot(history.history[metric])\n",
    "    plt.plot(history.history['val_'+ metric])\n",
    "    plt.title('model '+metric)\n",
    "    plt.ylabel(metric)\n",
    "    plt.xlabel('epoch')\n",
    "    plt.legend(['train', 'test'], loc='upper left')\n",
    "    plt.show()    "
   ]
  },
  {
   "cell_type": "code",
   "execution_count": 0,
   "metadata": {
    "colab": {},
    "colab_type": "code",
    "id": "mnqaM7l8Z9mA"
   },
   "outputs": [],
   "source": [
    "def get_model():\n",
    "    model = Sequential()\n",
    "    model.add(Dense(512, activation='relu', input_shape=(3072,)))\n",
    "    model.add(Dropout(0.2))\n",
    "    model.add(Dense(512, activation='relu'))\n",
    "    model.add(Dropout(0.2))\n",
    "    model.add(Dense(2, activation='softmax'))\n",
    "    return model"
   ]
  },
  {
   "cell_type": "markdown",
   "metadata": {},
   "source": [
    "### I KNOW I FORGOT TO PUT A Convolution layer"
   ]
  },
  {
   "cell_type": "code",
   "execution_count": 111,
   "metadata": {
    "colab": {
     "base_uri": "https://localhost:8080/",
     "height": 323
    },
    "colab_type": "code",
    "id": "kHU7uJvV_QTS",
    "outputId": "d69581e8-4b5c-42d1-feb3-a78e80d3454f"
   },
   "outputs": [
    {
     "name": "stdout",
     "output_type": "stream",
     "text": [
      "Model: \"sequential_8\"\n",
      "_________________________________________________________________\n",
      "Layer (type)                 Output Shape              Param #   \n",
      "=================================================================\n",
      "dense_21 (Dense)             (None, 512)               1573376   \n",
      "_________________________________________________________________\n",
      "dropout_15 (Dropout)         (None, 512)               0         \n",
      "_________________________________________________________________\n",
      "dense_22 (Dense)             (None, 512)               262656    \n",
      "_________________________________________________________________\n",
      "dropout_16 (Dropout)         (None, 512)               0         \n",
      "_________________________________________________________________\n",
      "dense_23 (Dense)             (None, 2)                 1026      \n",
      "=================================================================\n",
      "Total params: 1,837,058\n",
      "Trainable params: 1,837,058\n",
      "Non-trainable params: 0\n",
      "_________________________________________________________________\n"
     ]
    }
   ],
   "source": [
    "model = get_model()\n",
    "model.summary()\n",
    "\n",
    "model.compile(loss='categorical_crossentropy',\n",
    "              optimizer=RMSprop(),\n",
    "              metrics=['accuracy'])"
   ]
  },
  {
   "cell_type": "code",
   "execution_count": 112,
   "metadata": {
    "colab": {
     "base_uri": "https://localhost:8080/",
     "height": 374
    },
    "colab_type": "code",
    "id": "90km3Hig_Xt6",
    "outputId": "f836bd1b-7cfc-4345-8bf6-97b710fd6b23"
   },
   "outputs": [
    {
     "name": "stdout",
     "output_type": "stream",
     "text": [
      "Train on 4200 samples, validate on 1800 samples\n",
      "Epoch 1/10\n",
      "4200/4200 [==============================] - 4s 1ms/step - loss: 4.2791 - acc: 0.7345 - val_loss: 3.9758 - val_acc: 0.7533\n",
      "Epoch 2/10\n",
      "4200/4200 [==============================] - 4s 903us/step - loss: 4.2790 - acc: 0.7345 - val_loss: 3.9758 - val_acc: 0.7533\n",
      "Epoch 3/10\n",
      "4200/4200 [==============================] - 4s 895us/step - loss: 4.2790 - acc: 0.7345 - val_loss: 3.9758 - val_acc: 0.7533\n",
      "Epoch 4/10\n",
      "4200/4200 [==============================] - 4s 899us/step - loss: 4.2790 - acc: 0.7345 - val_loss: 3.9758 - val_acc: 0.7533\n",
      "Epoch 5/10\n",
      "4200/4200 [==============================] - 4s 891us/step - loss: 4.2790 - acc: 0.7345 - val_loss: 3.9758 - val_acc: 0.7533\n",
      "Epoch 6/10\n",
      "4200/4200 [==============================] - 4s 891us/step - loss: 4.2790 - acc: 0.7345 - val_loss: 3.9758 - val_acc: 0.7533\n",
      "Epoch 7/10\n",
      "4200/4200 [==============================] - 4s 899us/step - loss: 4.2790 - acc: 0.7345 - val_loss: 3.9758 - val_acc: 0.7533\n",
      "Epoch 8/10\n",
      "4200/4200 [==============================] - 4s 890us/step - loss: 4.2790 - acc: 0.7345 - val_loss: 3.9758 - val_acc: 0.7533\n",
      "Epoch 9/10\n",
      "4200/4200 [==============================] - 4s 890us/step - loss: 4.2790 - acc: 0.7345 - val_loss: 3.9758 - val_acc: 0.7533\n",
      "Epoch 10/10\n",
      "4200/4200 [==============================] - 4s 894us/step - loss: 4.2790 - acc: 0.7345 - val_loss: 3.9758 - val_acc: 0.7533\n"
     ]
    }
   ],
   "source": [
    "batch_size = 32\n",
    "\n",
    "history = model.fit(X, y,\n",
    "                    batch_size=batch_size,\n",
    "                    epochs=10,\n",
    "                    verbose=1,\n",
    "                    validation_data=(test_images, test_labels))"
   ]
  },
  {
   "cell_type": "code",
   "execution_count": 0,
   "metadata": {
    "colab": {},
    "colab_type": "code",
    "id": "04TgPOay_eIs"
   },
   "outputs": [],
   "source": [
    "drow_history(history, 'loss')"
   ]
  },
  {
   "cell_type": "code",
   "execution_count": 0,
   "metadata": {
    "colab": {},
    "colab_type": "code",
    "id": "UnSF5B3t_jei"
   },
   "outputs": [],
   "source": [
    "drow_history(history, 'acc')"
   ]
  },
  {
   "cell_type": "code",
   "execution_count": 117,
   "metadata": {
    "colab": {
     "base_uri": "https://localhost:8080/",
     "height": 51
    },
    "colab_type": "code",
    "id": "bc6q48Pb__J2",
    "outputId": "5e9a80c0-d58d-41b1-e5ae-b1ab40d80d4a"
   },
   "outputs": [
    {
     "name": "stdout",
     "output_type": "stream",
     "text": [
      "Test loss: 3.9757969162199234\n",
      "Test accuracy: 0.7533333333333333\n"
     ]
    }
   ],
   "source": [
    "score = model.evaluate(test_images, test_labels, verbose=0)\n",
    "print('Test loss:', score[0])\n",
    "print('Test accuracy:', score[1])"
   ]
  }
 ],
 "metadata": {
  "colab": {
   "collapsed_sections": [],
   "name": "Copy of Untitled.ipynb",
   "provenance": []
  },
  "kernelspec": {
   "display_name": "Python 3",
   "language": "python",
   "name": "python3"
  },
  "language_info": {
   "codemirror_mode": {
    "name": "ipython",
    "version": 3
   },
   "file_extension": ".py",
   "mimetype": "text/x-python",
   "name": "python",
   "nbconvert_exporter": "python",
   "pygments_lexer": "ipython3",
   "version": "3.7.1"
  }
 },
 "nbformat": 4,
 "nbformat_minor": 1
}
